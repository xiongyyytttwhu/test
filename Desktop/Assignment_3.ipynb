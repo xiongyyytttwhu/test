{
  "nbformat": 4,
  "nbformat_minor": 0,
  "metadata": {
    "anaconda-cloud": {},
    "celltoolbar": "Slideshow",
    "kernelspec": {
      "display_name": "Python 3",
      "language": "python",
      "name": "python3"
    },
    "language_info": {
      "codemirror_mode": {
        "name": "ipython",
        "version": 3
      },
      "file_extension": ".py",
      "mimetype": "text/x-python",
      "name": "python",
      "nbconvert_exporter": "python",
      "pygments_lexer": "ipython3",
      "version": "3.6.8"
    },
    "colab": {
      "name": "Assignment 3.ipynb",
      "provenance": []
    }
  },
  "cells": [
    {
      "cell_type": "markdown",
      "metadata": {
        "id": "LH9qNUL2I8NZ",
        "colab_type": "text"
      },
      "source": [
        "# COMP7404 Assignment 3 - Basic Classifiers\n",
        "\n",
        "In this assignment you will implement the basic classifiers discussed in class. This assignment is based on work by Li-Yi Wei et al. and our textbook Python Machine Learning (2nd Edition)."
      ]
    },
    {
      "cell_type": "markdown",
      "metadata": {
        "id": "fYPIrqAOUGnn",
        "colab_type": "text"
      },
      "source": [
        "#Submission\n",
        "\n",
        "Submit a single uid.ipynb file to moodle before the deadline. Ensure your file can be executed on Google Colab."
      ]
    },
    {
      "cell_type": "markdown",
      "metadata": {
        "id": "koajymTPI8Ne",
        "colab_type": "text"
      },
      "source": [
        "# Hand-written Digit Classification\n",
        "\n",
        "In class we applied different scikit-learn classifers for the Iris data set.\n",
        "\n",
        "In this assignment, we will apply the same set of classifiers over a different data set: hand-written digits.\n",
        "Please write down the code for different classifiers, choose their hyper-parameters using a validation set, and compare their performance via an accuracy score on a test set.\n",
        "Add sections for a discussions of results. Which classifier(s) perform(s) the best and worst, and why? \n",
        "\n",
        "The classifiers include:\n",
        "* perceptron\n",
        "* logistic regression\n",
        "* SVM\n",
        "* decision tree\n",
        "* random forest\n",
        "* KNN\n",
        "\n",
        "The dataset is available as part of scikit learn, as follows."
      ]
    },
    {
      "cell_type": "markdown",
      "metadata": {
        "id": "sNJpWgseI8Nh",
        "colab_type": "text"
      },
      "source": [
        "## Load data"
      ]
    },
    {
      "cell_type": "code",
      "metadata": {
        "id": "LA3pkly9I8Ni",
        "colab_type": "code",
        "outputId": "784b9dd7-1859-4120-e11e-76596aab5c20",
        "colab": {
          "base_uri": "https://localhost:8080/",
          "height": 119
        }
      },
      "source": [
        "from sklearn.datasets import load_digits\n",
        "digits = load_digits()\n",
        "\n",
        "X = digits.data # training data\n",
        "y = digits.target # training label\n",
        "\n",
        "print(X.shape)\n",
        "print(y.shape)\n",
        "print(X[0])"
      ],
      "execution_count": 31,
      "outputs": [
        {
          "output_type": "stream",
          "text": [
            "(1797, 64)\n",
            "(1797,)\n",
            "[ 0.  0.  5. 13.  9.  1.  0.  0.  0.  0. 13. 15. 10. 15.  5.  0.  0.  3.\n",
            " 15.  2.  0. 11.  8.  0.  0.  4. 12.  0.  0.  8.  8.  0.  0.  5.  8.  0.\n",
            "  0.  9.  8.  0.  0.  4. 11.  0.  1. 12.  7.  0.  0.  2. 14.  5. 10. 12.\n",
            "  0.  0.  0.  0.  6. 13. 10.  0.  0.  0.]\n"
          ],
          "name": "stdout"
        }
      ]
    },
    {
      "cell_type": "markdown",
      "metadata": {
        "id": "wu9F-rUbI8Nr",
        "colab_type": "text"
      },
      "source": [
        "## Visualize data"
      ]
    },
    {
      "cell_type": "code",
      "metadata": {
        "id": "b9wxKaA1I8Ns",
        "colab_type": "code",
        "outputId": "196c3241-76e6-48a8-eb44-f8f30da2fc65",
        "colab": {
          "base_uri": "https://localhost:8080/",
          "height": 602
        }
      },
      "source": [
        "import matplotlib.pyplot as plt\n",
        "import pylab as pl\n",
        "import matplotlib as mpl\n",
        "mpl.rcParams['figure.dpi'] = 150\n",
        "num_rows = 4\n",
        "num_cols = 5\n",
        "fig, ax = plt.subplots(nrows=num_rows, ncols=num_cols, sharex=True, sharey=True)\n",
        "ax = ax.flatten()\n",
        "for index in range(num_rows*num_cols):\n",
        "    img = digits.images[index]\n",
        "    label = digits.target[index]\n",
        "    ax[index].imshow(img, cmap='Greys', interpolation='nearest')\n",
        "    ax[index].set_title('digit ' + str(label))\n",
        "ax[0].set_xticks([])\n",
        "ax[0].set_yticks([])\n",
        "plt.tight_layout()\n",
        "plt.show()"
      ],
      "execution_count": 27,
      "outputs": [
        {
          "output_type": "display_data",
          "data": {
            "image/png": "[encoded data removed]",
            "text/plain": [
              "<Figure size 900x600 with 20 Axes>"
            ]
          },
          "metadata": {
            "tags": []
          }
        }
      ]
    },
    {
      "cell_type": "markdown",
      "metadata": {
        "id": "DIvIK28tI8Nx",
        "colab_type": "text"
      },
      "source": [
        "## Date Preprocessing\n",
        "Hint: Divide training and test data set and apply other techinques we have learned if needed."
      ]
    },
    {
      "cell_type": "code",
      "metadata": {
        "id": "CEcb7qAlI8Ny",
        "colab_type": "code",
        "colab": {}
      },
      "source": [
        "#Your code comes here\n",
        "import numpy as np\n",
        "\n",
        "from sklearn.model_selection import train_test_split\n",
        "X=X.reshape(1797,64)\n",
        "X=X.astype('float32')/16\n",
        "X_train, X_test, y_train, y_test = train_test_split(X, y, test_size=0.2)\n"
      ],
      "execution_count": 0,
      "outputs": []
    },
    {
      "cell_type": "markdown",
      "metadata": {
        "id": "B8Dx5NsUI8N0",
        "colab_type": "text"
      },
      "source": [
        "## Classifier #1 Perceptron"
      ]
    },
    {
      "cell_type": "code",
      "metadata": {
        "id": "pDDmTdERI8N1",
        "colab_type": "code",
        "colab": {
          "base_uri": "https://localhost:8080/",
          "height": 34
        },
        "outputId": "6b86c489-6f85-443c-d251-d57c9e9c034e"
      },
      "source": [
        "#Your code, including traing and testing, to observe the accuracies.\n",
        "from sklearn.linear_model import Perceptron\n",
        "clf=Perceptron()\n",
        "clf.fit(X_train,y_train)\n",
        "score=clf.score(X_test,y_test)\n",
        "print('accuracy:',score)"
      ],
      "execution_count": 41,
      "outputs": [
        {
          "output_type": "stream",
          "text": [
            "accuracy: 0.9416666666666667\n"
          ],
          "name": "stdout"
        }
      ]
    },
    {
      "cell_type": "markdown",
      "metadata": {
        "id": "bC3H02a7I8N3",
        "colab_type": "text"
      },
      "source": [
        "## Classifier #2 Logistic Regression"
      ]
    },
    {
      "cell_type": "code",
      "metadata": {
        "id": "uM8rtjbNI8N3",
        "colab_type": "code",
        "colab": {
          "base_uri": "https://localhost:8080/",
          "height": 34
        },
        "outputId": "ac8bae4b-9148-47d1-f041-8f22e2358cb7"
      },
      "source": [
        "#Your code, including traing and testing, to observe the accuracies.\n",
        "from sklearn.linear_model import  LogisticRegression\n",
        "clf=LogisticRegression(random_state=0, solver='lbfgs', multi_class='multinomial',max_iter=10000)\n",
        "clf.fit(X_train,y_train)\n",
        "score=clf.score(X_test,y_test)\n",
        "print('accuracy:',score)"
      ],
      "execution_count": 42,
      "outputs": [
        {
          "output_type": "stream",
          "text": [
            "accuracy: 0.9666666666666667\n"
          ],
          "name": "stdout"
        }
      ]
    },
    {
      "cell_type": "markdown",
      "metadata": {
        "id": "7YvA-i07I8N5",
        "colab_type": "text"
      },
      "source": [
        "## Classifier #3 SVM"
      ]
    },
    {
      "cell_type": "code",
      "metadata": {
        "id": "N2Zu5FKeI8N5",
        "colab_type": "code",
        "colab": {
          "base_uri": "https://localhost:8080/",
          "height": 34
        },
        "outputId": "b902ae00-ad45-4672-8369-319c171f3ad1"
      },
      "source": [
        "#Your code, including traing and testing, to observe the accuracies.\n",
        "from sklearn.svm import SVC\n",
        "clf=SVC(gamma='auto')\n",
        "clf.fit(X_train,y_train)\n",
        "score=clf.score(X_test,y_test)\n",
        "print('accuracy',score)"
      ],
      "execution_count": 38,
      "outputs": [
        {
          "output_type": "stream",
          "text": [
            "0.9666666666666667\n"
          ],
          "name": "stdout"
        }
      ]
    },
    {
      "cell_type": "markdown",
      "metadata": {
        "id": "ryVEk-CYI8N6",
        "colab_type": "text"
      },
      "source": [
        "## Classifier #4 Decision Tree"
      ]
    },
    {
      "cell_type": "code",
      "metadata": {
        "id": "qbJICxnZI8N7",
        "colab_type": "code",
        "colab": {
          "base_uri": "https://localhost:8080/",
          "height": 34
        },
        "outputId": "a3973925-1cdc-49df-d58a-dc5290a63407"
      },
      "source": [
        "#Your code, including traing and testing, to observe the accuracies.\n",
        "from sklearn.tree import DecisionTreeClassifier\n",
        "clf=DecisionTreeClassifier()\n",
        "clf.fit(X_train,y_train)\n",
        "score=clf.score(X_test,y_test)\n",
        "print('accuracy:',score)"
      ],
      "execution_count": 43,
      "outputs": [
        {
          "output_type": "stream",
          "text": [
            "accuracy: 0.8416666666666667\n"
          ],
          "name": "stdout"
        }
      ]
    },
    {
      "cell_type": "markdown",
      "metadata": {
        "id": "LjgN9gf5I8N8",
        "colab_type": "text"
      },
      "source": [
        "## Classifer #5 Random Forest"
      ]
    },
    {
      "cell_type": "code",
      "metadata": {
        "id": "uNY8WJ0CI8N8",
        "colab_type": "code",
        "colab": {
          "base_uri": "https://localhost:8080/",
          "height": 34
        },
        "outputId": "87fb08fa-ad84-4553-feb4-54f68697633e"
      },
      "source": [
        "#Your code, including traing and testing, to observe the accuracies.\n",
        "from sklearn.ensemble import RandomForestClassifier\n",
        "clf = RandomForestClassifier(n_estimators=100, max_depth=2, random_state=0)\n",
        "clf.fit(X_train,y_train)\n",
        "score=clf.score(X_test,y_test)\n",
        "print('accuracy',score)\n"
      ],
      "execution_count": 44,
      "outputs": [
        {
          "output_type": "stream",
          "text": [
            "score 0.8194444444444444\n"
          ],
          "name": "stdout"
        }
      ]
    },
    {
      "cell_type": "markdown",
      "metadata": {
        "id": "Q28gveAyI8N9",
        "colab_type": "text"
      },
      "source": [
        "## Classifier #6 KNN"
      ]
    },
    {
      "cell_type": "code",
      "metadata": {
        "id": "9_ZBuV_3I8N9",
        "colab_type": "code",
        "colab": {
          "base_uri": "https://localhost:8080/",
          "height": 34
        },
        "outputId": "0e68be14-4ed1-4d79-81b4-0b64317d09ce"
      },
      "source": [
        "#Your code, including traing and testing, to observe the accuracies.\n",
        "from sklearn.neighbors import KNeighborsClassifier\n",
        "clf=KNeighborsClassifier(n_neighbors=3)\n",
        "clf.fit(X_train,y_train)\n",
        "score=clf.score(X_test,y_test)\n",
        "print('accuracy',score)"
      ],
      "execution_count": 48,
      "outputs": [
        {
          "output_type": "stream",
          "text": [
            "accuracy 0.9888888888888889\n"
          ],
          "name": "stdout"
        }
      ]
    }
  ]
}